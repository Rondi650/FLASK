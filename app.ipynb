{
 "cells": [
  {
   "cell_type": "markdown",
   "id": "03b9def7",
   "metadata": {},
   "source": [
    "# Jogoteca (Flask)\n",
    "\n",
    "Este notebook replica o arquivo `app.py`, organizando os comentários como explicações em Markdown e mantendo o código funcional em células Python.\n",
    "\n",
    "A estrutura de pastas esperada pelo Flask é:\n",
    "- `templates/` para os arquivos HTML (`login.html`, `lista.html`, `novo.html`, etc.)\n",
    "- `static/` para arquivos estáticos como `bootstrap.css`\n",
    "\n",
    "Nos templates, carregue o CSS com Jinja:\n",
    "```html\n",
    "<link rel=\"stylesheet\" href=\"{{ url_for('static', filename='bootstrap.css') }}\">\n",
    "```"
   ]
  },
  {
   "cell_type": "markdown",
   "id": "b36cf1f3",
   "metadata": {},
   "source": [
    "## Inicialização do Flask e Configuração da Chave Secreta\n",
    "\n",
    "- Obrigatório para iniciar o Flask: criamos a aplicação com `Flask(__name__)`.\n",
    "- Sem `secret_key`, a `session` (cookie) não funciona; por isso definimos `app.secret_key`."
   ]
  },
  {
   "cell_type": "code",
   "execution_count": 17,
   "id": "75270475",
   "metadata": {},
   "outputs": [],
   "source": [
    "from flask import Flask, render_template, request, redirect, session, flash, url_for\n",
    "\n",
    "# criar a aplicação Flask\n",
    "app = Flask(__name__)\n",
    "\n",
    "# sem o secret key, o session(cookie), nao funciona\n",
    "app.secret_key = 'Rondi'"
   ]
  },
  {
   "cell_type": "markdown",
   "id": "8ff2535e",
   "metadata": {},
   "source": [
    "## Modelo de Usuário e Usuários de Exemplo\n",
    "\n",
    "- `Usuario` representa um usuário do sistema (nome, nickname, senha).\n",
    "- Criamos 3 usuários de exemplo e montamos um dicionário `usuarios` onde a chave é o `nickname` e o valor é o objeto `Usuario`.\n",
    "- Esse dicionário funciona como um “mini banco de dados” para autenticação."
   ]
  },
  {
   "cell_type": "code",
   "execution_count": null,
   "id": "d5c36a2e",
   "metadata": {},
   "outputs": [],
   "source": [
    "class Usuario:\n",
    "    def __init__(self, nome, nickname, senha):\n",
    "        self.nome = nome\n",
    "        self.nickname = nickname\n",
    "        self.senha = senha\n",
    "        \n",
    "usuario1 = Usuario(\"Bruno Divino\", \"BD\", \"alohomora\")\n",
    "usuario2 = Usuario(\"Camila Ferreira\", \"Mila\", \"paozinho\")\n",
    "usuario3 = Usuario(\"Guilherme Louro\", \"Cake\", \"python_eh_vida\")\n",
    "usuario4 = Usuario('Rondinelle Oliveira','Rondi', '123')\n",
    "\n",
    "usuarios = { \n",
    "    usuario1.nickname: usuario1, \n",
    "    usuario2.nickname: usuario2,\n",
    "    usuario3.nickname: usuario3,\n",
    "    usuario4.nickname: usuario4\n",
    "}"
   ]
  },
  {
   "cell_type": "markdown",
   "id": "8d1d560d",
   "metadata": {},
   "source": [
    "## Modelo de Jogo e Lista Global de Jogos\n",
    "\n",
    "- `Jogo` representa um jogo com nome, categoria e console.\n",
    "- Criamos 3 jogos de exemplo e mantemos uma lista global `lista` (fora das rotas) para que todas as rotas possam acessá-la."
   ]
  },
  {
   "cell_type": "code",
   "execution_count": 19,
   "id": "03abd7a9",
   "metadata": {},
   "outputs": [],
   "source": [
    "class Jogo:\n",
    "    def __init__(self, nome, categoria, console):\n",
    "        self.nome = nome\n",
    "        self.categoria = categoria\n",
    "        self.console = console\n",
    " \n",
    "# instanciado jogos padrao ja que nao tem banco de dados\n",
    "jogo1 = Jogo(\"The Legend of Zelda: Breath of the Wild\", \"Aventura\", \"Nintendo Switch\")\n",
    "jogo2 = Jogo(\"God of War Ragnarök\", \"Ação\", \"PlayStation 5\")\n",
    "jogo3 = Jogo(\"Halo Infinite\", \"FPS\", \"Xbox Series X\")  \n",
    "\n",
    "# lista com os jogos da classe, tem que estar do lado de fora para ser global\n",
    "lista = [jogo1, jogo2, jogo3]"
   ]
  },
  {
   "cell_type": "markdown",
   "id": "59f12cc0",
   "metadata": {},
   "source": [
    "## Rotas de Interface: Login, Lista e Novo Jogo\n",
    "\n",
    "- `/login` sempre renderiza `login.html` (formulário).\n",
    "- `/` mostra a lista de jogos, mas primeiro verifica se há usuário logado na sessão.\n",
    "- `/novo` mostra o formulário de novo jogo e também exige usuário logado."
   ]
  },
  {
   "cell_type": "code",
   "execution_count": 20,
   "id": "d070df8a",
   "metadata": {},
   "outputs": [],
   "source": [
    "# pagina de login\n",
    "@app.route('/login')\n",
    "def login():\n",
    "    # sempre direciona para a pagina login.html\n",
    "    return render_template('login.html')\n",
    "\n",
    "# pagina com a tabela de jogos, interface vem da tabela lista.html\n",
    "@app.route('/')\n",
    "def index():\n",
    "    # SE cookie vazio, pagina nao entra | TEM que estar logado\n",
    "    if 'usuario_logado' not in session or session['usuario_logado'] == None:\n",
    "        # volta para a pagina de login\n",
    "        return redirect(url_for('login'))   \n",
    "    # cookie com nome de usuario == True | direciona para pagina com a tabela de jogos\n",
    "    return render_template('lista.html', jogos = lista, titulo = 'Jogos')\n",
    "\n",
    "# pagina para criar os jogos, interface vem da tabela novo.html\n",
    "@app.route('/novo', methods = ['GET'])\n",
    "def novo_jogo():\n",
    "    # SE cookie vazio, pagina nao entra | TEM que estar logado\n",
    "    if 'usuario_logado' not in session or session['usuario_logado'] == None:\n",
    "        # volta para a pagina de login\n",
    "        return redirect(url_for('login'))\n",
    "    # cookie com nome de usuario == True | direciona para pagina de criar jogos\n",
    "    return render_template('novo.html', titulo = 'Inserir Novo Jogo')"
   ]
  },
  {
   "cell_type": "markdown",
   "id": "8716355f",
   "metadata": {},
   "source": [
    "## Rota de Criação (POST) e PRG\n",
    "\n",
    "- `/criar` recebe os dados do formulário de `novo.html` via método POST.\n",
    "- Coleta `nome`, `categoria`, `console`, cria um objeto `Jogo` e adiciona à `lista`.\n",
    "- Aplica o padrão POST-Redirect-GET (PRG): após o POST, redireciona para `/` (GET) para evitar reenvio de formulário ao atualizar a página."
   ]
  },
  {
   "cell_type": "code",
   "execution_count": 21,
   "id": "aa1f873e",
   "metadata": {},
   "outputs": [],
   "source": [
    "# pagina de redirecionamento | recebe dados da pagina de criar jogos | Apenas uma ponte que leva para a pagina com a tabela\n",
    "# dados vem do formulario da pagina novo.html\n",
    "@app.route('/criar', methods = ['POST'])\n",
    "def criar_jogo():\n",
    "    # vai no html e pega os dados do input\n",
    "    nome = request.form['nome']\n",
    "    categoria = request.form['categoria']\n",
    "    console = request.form['console']\n",
    "    # instancia a classe baseado nos inputs recebidos do HTML\n",
    "    novo_jogo = Jogo(nome, categoria, console)\n",
    "    # inclui os dados do input na lista\n",
    "    lista.append(novo_jogo)\n",
    "    # direciona para a pagina da tabela ja com o novo jogo adicionado\n",
    "    return redirect(url_for('index'))"
   ]
  },
  {
   "cell_type": "markdown",
   "id": "3fb68ddc",
   "metadata": {},
   "source": [
    "## Autenticação de Usuário\n",
    "\n",
    "- `/autenticar` recebe `usuario` (nickname) e `senha` do formulário `login.html`.\n",
    "- Busca no dicionário `usuarios` pelo nickname e compara a senha.\n",
    "- Se der certo, grava `session['usuario_logado']` e usa `flash()` para mensagens.\n",
    "- Em caso de falha, exibe mensagem e redireciona para o login."
   ]
  },
  {
   "cell_type": "code",
   "execution_count": null,
   "id": "ecbc07b5",
   "metadata": {},
   "outputs": [],
   "source": [
    "# pagina de validacao de login | dados vem do formulario da pagina login.html\n",
    "@app.route('/autenticar', methods=['POST'])\n",
    "def autenticar():\n",
    "    # SE o nickname digitado estiver na lista que tem como chave o nickname\n",
    "    if request.form['usuario'] in usuarios:\n",
    "        # usuario vira uma instancia do objeto | Ex lista_usuarios['nickname'].nome --> acessa o valor que e um objeto\n",
    "        usuario = usuarios[request.form['usuario']]\n",
    "        if request.form['senha'] == usuario.senha:\n",
    "            session['usuario_logado'] = usuario.nickname\n",
    "            flash(usuario.nickname + ' logado com sucesso')\n",
    "        # direciona para a pagina de criar jogos\n",
    "        return redirect(url_for('novo_jogo'))\n",
    "    else:\n",
    "        flash('Usuario ou senha incorreto.')\n",
    "        # SE a senha estiver errada, volta eternamente para a pagina de login\n",
    "        return redirect(url_for('index'))"
   ]
  },
  {
   "cell_type": "markdown",
   "id": "e0cd3a90",
   "metadata": {},
   "source": [
    "## Logout\n",
    "\n",
    "- Limpa a sessão (`session['usuario_logado'] = None`).\n",
    "- Mostra uma mensagem com `flash()` e redireciona para `/login`."
   ]
  },
  {
   "cell_type": "code",
   "execution_count": 23,
   "id": "372fb1ee",
   "metadata": {},
   "outputs": [],
   "source": [
    "# pagina de logout, desativa os cookies\n",
    "@app.route('/logout')\n",
    "def logout():\n",
    "    # apaga os cookies da funcao session\n",
    "    session['usuario_logado'] = None\n",
    "    flash('Logout efetuado com sucesso!')\n",
    "    # volta para a pagina de login\n",
    "    return redirect(url_for('login'))"
   ]
  },
  {
   "cell_type": "markdown",
   "id": "72d94610",
   "metadata": {},
   "source": [
    "## Executando o App (apenas em desenvolvimento)\n",
    "\n",
    "- A célula abaixo inicia o servidor Flask no modo debug.\n",
    "- Observação: ao rodar dentro do notebook, o kernel ficará ocupado pelo servidor.\n",
    "- Alternativa: iniciar pelo terminal PowerShell (recomendado) no diretório do projeto.\n",
    "\n",
    "No PowerShell (opcional):\n",
    "```powershell\n",
    "$env:FLASK_APP=\"app.py\"; $env:FLASK_ENV=\"development\"; python app.py\n",
    "```"
   ]
  },
  {
   "cell_type": "code",
   "execution_count": 24,
   "id": "25a39db0",
   "metadata": {},
   "outputs": [
    {
     "name": "stdout",
     "output_type": "stream",
     "text": [
      " * Serving Flask app '__main__'\n",
      " * Debug mode: on\n",
      " * Debug mode: on\n"
     ]
    },
    {
     "name": "stderr",
     "output_type": "stream",
     "text": [
      "WARNING: This is a development server. Do not use it in a production deployment. Use a production WSGI server instead.\n",
      " * Running on all addresses (0.0.0.0)\n",
      " * Running on http://127.0.0.1:8080\n",
      " * Running on http://192.168.3.82:8080\n",
      "Press CTRL+C to quit\n",
      " * Restarting with watchdog (windowsapi)\n",
      "\n",
      " * Running on all addresses (0.0.0.0)\n",
      " * Running on http://127.0.0.1:8080\n",
      " * Running on http://192.168.3.82:8080\n",
      "Press CTRL+C to quit\n",
      " * Restarting with watchdog (windowsapi)\n"
     ]
    },
    {
     "ename": "SystemExit",
     "evalue": "1",
     "output_type": "error",
     "traceback": [
      "An exception has occurred, use %tb to see the full traceback.\n",
      "\u001b[31mSystemExit\u001b[39m\u001b[31m:\u001b[39m 1\n"
     ]
    },
    {
     "name": "stderr",
     "output_type": "stream",
     "text": [
      "C:\\Users\\rondi\\AppData\\Roaming\\Python\\Python313\\site-packages\\IPython\\core\\interactiveshell.py:3707: UserWarning: To exit: use 'exit', 'quit', or Ctrl-D.\n",
      "  warn(\"To exit: use 'exit', 'quit', or Ctrl-D.\", stacklevel=1)\n"
     ]
    }
   ],
   "source": [
    "# iniciar o servidor (opcional rodar via notebook)\n",
    "if __name__ == '__main__':\n",
    "    app.run(host='0.0.0.0', port=8080, debug=True)"
   ]
  }
 ],
 "metadata": {
  "kernelspec": {
   "display_name": "base",
   "language": "python",
   "name": "python3"
  },
  "language_info": {
   "codemirror_mode": {
    "name": "ipython",
    "version": 3
   },
   "file_extension": ".py",
   "mimetype": "text/x-python",
   "name": "python",
   "nbconvert_exporter": "python",
   "pygments_lexer": "ipython3",
   "version": "3.13.5"
  }
 },
 "nbformat": 4,
 "nbformat_minor": 5
}
